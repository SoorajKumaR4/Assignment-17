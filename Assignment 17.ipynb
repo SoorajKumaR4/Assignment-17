{
 "cells": [
  {
   "cell_type": "markdown",
   "id": "ab7b7a83",
   "metadata": {},
   "source": [
    "1. Assign the value 7 to the variable guess_me. Then, write the conditional tests (if, else, and elif) to\n",
    "print the string &#39;too low&#39; if guess_me is less than 7, &#39;too high&#39; if greater than 7, and &#39;just right&#39; if equal\n",
    "to 7.\n",
    "\n",
    "\n",
    "A:\n",
    "guess_me=7\n",
    "\n",
    "if guess_me<7:\n",
    "    print(\"too low\")\n",
    "\n",
    "elif guess_me==7:\n",
    "    print(\"just right\")\n",
    "\n",
    "else:\n",
    "    print(\"too high\")"
   ]
  },
  {
   "cell_type": "markdown",
   "id": "49a2d2b2",
   "metadata": {},
   "source": [
    "2. Assign the value 7 to the variable guess_me and the value 1 to the variable start. Write a while\n",
    "loop that compares start with guess_me. Print too low if start is less than guess me. If start equals\n",
    "guess_me, print “found it!” and exit the loop. If start is greater than guess_me, print “oops” and exit\n",
    "the loop. Increment start at the end of the loop.\n",
    "\n",
    "\n",
    "guess_me=7\n",
    "\n",
    "start=1\n",
    "\n",
    "while guess_me == start:\n",
    "    print(\"found it\")\n",
    "\n",
    "if start<guess_me:\n",
    "    print(\"too low\")\n",
    "\n",
    "elif start> guess_me:\n",
    "    print(\"opps\")\n"
   ]
  },
  {
   "cell_type": "markdown",
   "id": "3314a21a",
   "metadata": {},
   "source": [
    "3. Print the following values of the list [3, 2, 1, 0] using a for loop.\n",
    "\n",
    "A\n",
    "list=[3, 2, 1, 0]\n",
    "for i in list:\n",
    "    print(i)"
   ]
  },
  {
   "cell_type": "code",
   "execution_count": 4,
   "id": "6cfe0314",
   "metadata": {},
   "outputs": [
    {
     "name": "stdout",
     "output_type": "stream",
     "text": [
      "3\n",
      "2\n",
      "1\n",
      "0\n"
     ]
    }
   ],
   "source": [
    "4. Use a list comprehension to make a list of the even numbers in range(10)"
   ]
  },
  {
   "cell_type": "markdown",
   "id": "bec5b28a",
   "metadata": {},
   "source": [
    "4. Use a list comprehension to make a list of the even numbers in range(10)\n",
    "\n",
    "A.\n",
    "for i in range(10):\n",
    "\n",
    "    if i%2==0:\n",
    "        \n",
    "        print(i)"
   ]
  },
  {
   "cell_type": "markdown",
   "id": "08da7f76",
   "metadata": {},
   "source": [
    "5. Use a dictionary comprehension to create the dictionary squares. Use range(10) to return the\n",
    "keys, and use the square of each key as its value.\n",
    "\n",
    "A.\n",
    "squares = {num: num * num for num in range(10)}\n",
    "\n",
    "print(squares)"
   ]
  },
  {
   "cell_type": "markdown",
   "id": "f9d10c2a",
   "metadata": {},
   "source": [
    "6. Construct the set odd from the odd numbers in the range using a set comprehension (10).\n",
    "\n",
    "A.\n",
    "set={num for num in range(10) if num % 2 == 1}\n",
    "\n",
    "print(set)"
   ]
  },
  {
   "cell_type": "markdown",
   "id": "950f951d",
   "metadata": {},
   "source": [
    "7. Use a generator comprehension to return the string “Got “ and a number for the numbers in\n",
    "range(10). Iterate through this by using a for loop.\n",
    "\n",
    "A. \n",
    "generator=(\"Got \" + str(num) for num in range(10))\n",
    "for num in generator:\n",
    "    print(num)"
   ]
  },
  {
   "cell_type": "markdown",
   "id": "1358b27f",
   "metadata": {},
   "source": [
    "8. Define a function called good that returns the list [“Harry”, “Ron”, “Hermione”].\n",
    "\n",
    "A.\n",
    "def good():\n",
    "\n",
    "    return ['Harry', 'Ron', 'Hermione']\n",
    "\n",
    "print(good())\n"
   ]
  },
  {
   "cell_type": "markdown",
   "id": "17fea394",
   "metadata": {},
   "source": [
    "9. Define a generator function called get_odds that returns the odd numbers from range(10). Use a\n",
    "for loop to find and print the third value returned.\n",
    "\n",
    "A.\n",
    "\n",
    "limit = 10\n",
    "\n",
    "get_odds = (num for num in range(limit) if not num % 2 == 0)\n",
    "\n",
    "count = 0\n",
    "\n",
    "for num in get_odds:\n",
    "    if count == 2:\n",
    "        print(num)\n",
    "        break\n",
    "    count += 1"
   ]
  },
  {
   "cell_type": "markdown",
   "id": "cade5b8c",
   "metadata": {},
   "source": [
    "10. Define an exception called OopsException. Raise this exception to see what happens. Then write the code to catch this exception and print “Caught an oops\"\n",
    "\n",
    "A. \n",
    "\n",
    "class OopsException(Exception):\n",
    "    pass\n",
    "\n",
    "\n",
    "def with_exception(a):\n",
    "    if a < 0:\n",
    "        raise OopsException(a)\n",
    "\n",
    "\n",
    "try:\n",
    "    with_exception(-1)\n",
    "except OopsException as err:\n",
    "    print('Caught an oops')\n"
   ]
  },
  {
   "cell_type": "markdown",
   "id": "1a13ebd6",
   "metadata": {},
   "source": [
    "11. Use zip() to make a dictionary called movies that pairs these lists: titles = [“Creature of Habit”,\n",
    "“Crewel Fate”] and plots = [“A nun turns into a monster”, “A haunted yarn shop”].”.\n",
    "\n",
    "\n",
    "A.\n",
    "titles = ['Creature of Habit', 'Crewel Fate']\n",
    "\n",
    "plots = ['A nun turns into a monster', 'A haunted yarn shop']\n",
    "\n",
    "movies = {}\n",
    "\n",
    "for title, plot in zip(titles, plots):\n",
    "\n",
    "    movies[title] = plot\n",
    "\n",
    "print(movies)"
   ]
  }
 ],
 "metadata": {
  "kernelspec": {
   "display_name": "Python 3 (ipykernel)",
   "language": "python",
   "name": "python3"
  },
  "language_info": {
   "codemirror_mode": {
    "name": "ipython",
    "version": 3
   },
   "file_extension": ".py",
   "mimetype": "text/x-python",
   "name": "python",
   "nbconvert_exporter": "python",
   "pygments_lexer": "ipython3",
   "version": "3.9.7"
  }
 },
 "nbformat": 4,
 "nbformat_minor": 5
}
